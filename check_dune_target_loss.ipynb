{
 "cells": [
  {
   "cell_type": "code",
   "execution_count": 36,
   "metadata": {},
   "outputs": [],
   "source": [
    "from hnl_flux import *\n",
    "\n",
    "\n",
    "\n",
    "sigma_p = sigma_total_proton(1e-6*(2*(M_P*12)**2 + 2*(M_P*12)*120.0e3))\n",
    "\n",
    "mat = Material(\"C\")\n",
    "\n",
    "rho = mat.density  # density of carbon in g/cm^3\n",
    "\n",
    "prob = AVOGADRO * (rho / (12)) * (1e-27 * sigma_p) * 150.0  # particles / mol  * g/cm^3  / (g / mol)  * (xs in mb --> cm^2) * length in cm\n",
    "\n"
   ]
  },
  {
   "cell_type": "code",
   "execution_count": 37,
   "metadata": {},
   "outputs": [
    {
     "name": "stdout",
     "output_type": "stream",
     "text": [
      "Interaction length = lambda = 1/(sigma*n) = 199.286712379008\n"
     ]
    }
   ],
   "source": [
    "print(\"Interaction length = lambda = 1/(sigma*n) = {}\".format(1/(sigma_p*1e-27*AVOGADRO*rho/12)))"
   ]
  },
  {
   "cell_type": "code",
   "execution_count": 38,
   "metadata": {},
   "outputs": [
    {
     "name": "stdout",
     "output_type": "stream",
     "text": [
      "Probability of interacting = 0.7526844023334911\n"
     ]
    }
   ],
   "source": [
    "print(\"Probability of interacting = {}\".format(prob))"
   ]
  },
  {
   "cell_type": "code",
   "execution_count": 39,
   "metadata": {},
   "outputs": [
    {
     "name": "stdout",
     "output_type": "stream",
     "text": [
      "Fraction that passes through = 0.2473155976665089 compared to 1/6 = 0.16666666666666666\n"
     ]
    }
   ],
   "source": [
    "print(\"Fraction that passes through = {} compared to 1/6 = {}\".format(1-prob, 1/6))"
   ]
  },
  {
   "cell_type": "code",
   "execution_count": null,
   "metadata": {},
   "outputs": [],
   "source": []
  }
 ],
 "metadata": {
  "kernelspec": {
   "display_name": "Python 3",
   "language": "python",
   "name": "python3"
  },
  "language_info": {
   "codemirror_mode": {
    "name": "ipython",
    "version": 3
   },
   "file_extension": ".py",
   "mimetype": "text/x-python",
   "name": "python",
   "nbconvert_exporter": "python",
   "pygments_lexer": "ipython3",
   "version": "3.9.2"
  }
 },
 "nbformat": 4,
 "nbformat_minor": 2
}
